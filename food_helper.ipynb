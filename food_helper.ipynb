{
  "nbformat": 4,
  "nbformat_minor": 0,
  "metadata": {
    "colab": {
      "provenance": [],
      "authorship_tag": "ABX9TyNQEMSf+0LZfr4hIflZwfhu"
    },
    "kernelspec": {
      "name": "python3",
      "display_name": "Python 3"
    },
    "language_info": {
      "name": "python"
    }
  },
  "cells": [
    {
      "cell_type": "markdown",
      "source": [
        "Creating a function that visualies 3 images from target directory"
      ],
      "metadata": {
        "id": "OPh1JxzcH2ib"
      }
    },
    {
      "cell_type": "code",
      "execution_count": 2,
      "metadata": {
        "id": "Ne_kW0zdHWx8"
      },
      "outputs": [],
      "source": [
        "import matplotlib.pyplot as plt\n",
        "import matplotlib.image as mpimg\n",
        "import random\n",
        "\n",
        "def view_three_images(target_dir, target_class):\n",
        "    \"\"\"\n",
        "    Randomly selects and displays 3 random images\n",
        "    from `target_class` folder in `target_dir` folder.\n",
        "    \"\"\"\n",
        "    target_path = target_dir + target_class\n",
        "    file_names = os.listdir(target_path)\n",
        "    target_images = random.sample(file_names, 3)\n",
        "\n",
        "    plt.figure(figsize=(10, 3))\n",
        "    for i, img in enumerate(target_images):\n",
        "        img_path = target_path + \"/\" + img\n",
        "        plt.subplot(1, 3, i+1)\n",
        "        plt.imshow(mpimg.imread(img_path))\n",
        "        plt.title(target_class)\n",
        "        plt.axis(\"off\")"
      ]
    },
    {
      "cell_type": "code",
      "source": [],
      "metadata": {
        "id": "hqPUpuGUH10k"
      },
      "execution_count": null,
      "outputs": []
    }
  ]
}